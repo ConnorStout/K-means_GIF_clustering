{
 "cells": [
  {
   "cell_type": "code",
   "execution_count": 1,
   "metadata": {},
   "outputs": [],
   "source": [
    "import numpy as np\n",
    "import cv2\n",
    "from PIL import Image, ImageSequence\n",
    "import os"
   ]
  },
  {
   "cell_type": "code",
   "execution_count": 18,
   "metadata": {},
   "outputs": [],
   "source": [
    "diamond_colors = np.array([[164,165,168],[97,188,71],[0,0,0],[213,214,216]])"
   ]
  },
  {
   "cell_type": "code",
   "execution_count": 2,
   "metadata": {},
   "outputs": [
    {
     "ename": "FileNotFoundError",
     "evalue": "[Errno 2] No such file or directory: 'home_run_img/frame1.png'",
     "output_type": "error",
     "traceback": [
      "\u001b[0;31m---------------------------------------------------------------------------\u001b[0m",
      "\u001b[0;31mFileNotFoundError\u001b[0m                         Traceback (most recent call last)",
      "\u001b[0;32m<ipython-input-2-2ca44cd85137>\u001b[0m in \u001b[0;36m<module>\u001b[0;34m\u001b[0m\n\u001b[1;32m      3\u001b[0m \u001b[0mindex\u001b[0m \u001b[0;34m=\u001b[0m \u001b[0;36m1\u001b[0m\u001b[0;34m\u001b[0m\u001b[0m\n\u001b[1;32m      4\u001b[0m \u001b[0;32mfor\u001b[0m \u001b[0mframe\u001b[0m \u001b[0;32min\u001b[0m \u001b[0mImageSequence\u001b[0m\u001b[0;34m.\u001b[0m\u001b[0mIterator\u001b[0m\u001b[0;34m(\u001b[0m\u001b[0mim\u001b[0m\u001b[0;34m)\u001b[0m\u001b[0;34m:\u001b[0m\u001b[0;34m\u001b[0m\u001b[0m\n\u001b[0;32m----> 5\u001b[0;31m     \u001b[0mframe\u001b[0m\u001b[0;34m.\u001b[0m\u001b[0msave\u001b[0m\u001b[0;34m(\u001b[0m\u001b[0;34m'home_run_img/frame'\u001b[0m\u001b[0;34m+\u001b[0m\u001b[0mstr\u001b[0m\u001b[0;34m(\u001b[0m\u001b[0mindex\u001b[0m\u001b[0;34m)\u001b[0m\u001b[0;34m+\u001b[0m\u001b[0;34m'.png'\u001b[0m\u001b[0;34m)\u001b[0m\u001b[0;34m\u001b[0m\u001b[0m\n\u001b[0m\u001b[1;32m      6\u001b[0m     \u001b[0mindex\u001b[0m \u001b[0;34m+=\u001b[0m \u001b[0;36m1\u001b[0m\u001b[0;34m\u001b[0m\u001b[0m\n",
      "\u001b[0;32m~/Documents/python_stuff/py3/lib/python3.7/site-packages/PIL/Image.py\u001b[0m in \u001b[0;36msave\u001b[0;34m(self, fp, format, **params)\u001b[0m\n\u001b[1;32m   1964\u001b[0m                 \u001b[0;31m# Open also for reading (\"+\"), because TIFF save_all\u001b[0m\u001b[0;34m\u001b[0m\u001b[0;34m\u001b[0m\u001b[0m\n\u001b[1;32m   1965\u001b[0m                 \u001b[0;31m# writer needs to go back and edit the written data.\u001b[0m\u001b[0;34m\u001b[0m\u001b[0;34m\u001b[0m\u001b[0m\n\u001b[0;32m-> 1966\u001b[0;31m                 \u001b[0mfp\u001b[0m \u001b[0;34m=\u001b[0m \u001b[0mbuiltins\u001b[0m\u001b[0;34m.\u001b[0m\u001b[0mopen\u001b[0m\u001b[0;34m(\u001b[0m\u001b[0mfilename\u001b[0m\u001b[0;34m,\u001b[0m \u001b[0;34m\"w+b\"\u001b[0m\u001b[0;34m)\u001b[0m\u001b[0;34m\u001b[0m\u001b[0m\n\u001b[0m\u001b[1;32m   1967\u001b[0m \u001b[0;34m\u001b[0m\u001b[0m\n\u001b[1;32m   1968\u001b[0m         \u001b[0;32mtry\u001b[0m\u001b[0;34m:\u001b[0m\u001b[0;34m\u001b[0m\u001b[0m\n",
      "\u001b[0;31mFileNotFoundError\u001b[0m: [Errno 2] No such file or directory: 'home_run_img/frame1.png'"
     ]
    }
   ],
   "source": [
    "im = Image.open(\"home_run.gif\")\n",
    "\n",
    "index = 1\n",
    "for frame in ImageSequence.Iterator(im):\n",
    "    frame.save('home_run_img/frame'+str(index)+'.png')\n",
    "    index += 1"
   ]
  },
  {
   "cell_type": "code",
   "execution_count": 2,
   "metadata": {},
   "outputs": [],
   "source": [
    "import re\n",
    "\n",
    "def atoi(text):\n",
    "    return int(text) if text.isdigit() else text\n",
    "\n",
    "def natural_keys(text):\n",
    "    '''\n",
    "    alist.sort(key=natural_keys) sorts in human order\n",
    "    http://nedbatchelder.com/blog/200712/human_sorting.html\n",
    "    (See Toothy's implementation in the comments)\n",
    "    '''\n",
    "    return [ atoi(c) for c in re.split('(\\d+)', text) ]\n"
   ]
  },
  {
   "cell_type": "code",
   "execution_count": 3,
   "metadata": {},
   "outputs": [
    {
     "name": "stdout",
     "output_type": "stream",
     "text": [
      "['frame1.png', 'frame2.png', 'frame3.png', 'frame4.png', 'frame5.png', 'frame6.png', 'frame7.png', 'frame8.png', 'frame9.png', 'frame10.png', 'frame11.png', 'frame12.png', 'frame13.png', 'frame14.png', 'frame15.png', 'frame16.png', 'frame17.png', 'frame18.png', 'frame19.png', 'frame20.png', 'frame21.png', 'frame22.png', 'frame23.png', 'frame24.png', 'frame25.png', 'frame26.png', 'frame27.png', 'frame28.png', 'frame29.png', 'frame30.png', 'frame31.png', 'frame32.png', 'frame33.png', 'frame34.png', 'frame35.png', 'frame36.png', 'frame37.png', 'frame38.png', 'frame39.png', 'frame40.png', 'frame41.png', 'frame42.png', 'frame43.png', 'frame44.png', 'frame45.png', 'frame46.png', 'frame47.png', 'frame48.png', 'frame49.png', 'frame50.png', 'frame51.png', 'frame52.png', 'frame53.png', 'frame54.png', 'frame55.png', 'frame56.png', 'frame57.png', 'frame58.png', 'frame59.png', 'frame60.png', 'frame61.png', 'frame62.png', 'frame63.png', 'frame64.png', 'frame65.png', 'frame66.png', 'frame67.png', 'frame68.png', 'frame69.png', 'frame70.png', 'frame71.png', 'frame72.png', 'frame73.png', 'frame74.png', 'frame75.png', 'frame76.png', 'frame77.png', 'frame78.png', 'frame79.png', 'frame80.png', 'frame81.png', 'frame82.png', 'frame83.png', 'frame84.png', 'frame85.png', 'frame86.png', 'frame87.png', 'frame88.png', 'frame89.png', 'frame90.png', 'frame91.png', 'frame92.png', 'frame93.png', 'frame94.png', 'frame95.png', 'frame96.png', 'frame97.png', 'frame98.png', 'frame99.png', 'frame100.png', 'frame101.png', 'frame102.png', 'frame103.png', 'frame104.png', 'frame105.png', 'frame106.png', 'frame107.png', 'frame108.png', 'frame109.png', 'frame110.png', 'frame111.png', 'frame112.png', 'frame113.png', 'frame114.png', 'frame115.png', 'frame116.png', 'frame117.png', 'frame118.png', 'frame119.png', 'frame120.png', 'frame121.png', 'frame122.png', 'frame123.png', 'frame124.png', 'frame125.png', 'frame126.png', 'frame127.png', 'frame128.png', 'frame129.png', 'frame130.png']\n"
     ]
    }
   ],
   "source": [
    "curr_dir = os.getcwd()\n",
    "img_list = os.listdir(curr_dir+'/home_run_imgs')\n",
    "img_list.sort(key=natural_keys)\n",
    "print(img_list)"
   ]
  },
  {
   "cell_type": "code",
   "execution_count": 21,
   "metadata": {},
   "outputs": [],
   "source": [
    "def reorderLabels(center,labels,K):\n",
    "    firstIndex = center[:,:1]\n",
    "    #print(firstIndex)\n",
    "    newIndices = []\n",
    "    for x in firstIndex:\n",
    "        #print(x[0])\n",
    "        newIndices = newIndices + [x[0]]\n",
    "    firstIndex = newIndices\n",
    "    orderedIndex = sorted(firstIndex)\n",
    "    finalList = np.full(labels.shape, 0)\n",
    "    for i, x in enumerate(orderedIndex):\n",
    "        previousIndex = list(firstIndex).index(x)\n",
    "        item_label = [i for i, x in enumerate(label) if x == [previousIndex]]\n",
    "        for x in item_label:\n",
    "            finalList[x] = [i]\n",
    "    return finalList\n",
    "            "
   ]
  },
  {
   "cell_type": "code",
   "execution_count": 29,
   "metadata": {},
   "outputs": [
    {
     "name": "stdout",
     "output_type": "stream",
     "text": [
      "[[ 97 188  71]\n",
      " [  0   0   0]\n",
      " [164 165 168]\n",
      " [213 214 216]]\n",
      "[[  0   0   0]\n",
      " [164 165 168]\n",
      " [ 97 188  71]\n",
      " [213 214 216]]\n",
      "\n",
      "(677, 578, 3)\n",
      "[0 0 0]\n"
     ]
    },
    {
     "data": {
      "text/plain": [
       "True"
      ]
     },
     "execution_count": 29,
     "metadata": {},
     "output_type": "execute_result"
    }
   ],
   "source": [
    "img = cv2.imread(curr_dir+'/home_run_imgs/'+'frame75.png')\n",
    "Z = img.reshape((-1,3))\n",
    "# convert to np.float32\n",
    "Z = np.float32(Z)\n",
    "\n",
    "# define criteria, number of clusters(K) and apply kmeans()\n",
    "criteria = (cv2.TERM_CRITERIA_EPS + cv2.TERM_CRITERIA_MAX_ITER, 10, 1.0)\n",
    "K = 4\n",
    "ret,label,center=cv2.kmeans(Z,K,None,criteria,10,cv2.KMEANS_RANDOM_CENTERS)\n",
    "green_label = label[20]\n",
    "# Now convert back into uint8, and make originalimage\n",
    "center = diamond_colors\n",
    "center = np.uint8(center)\n",
    "label = reorderLabels(center,label,K)\n",
    "print(center)\n",
    "center = center[center[:,1].argsort()]\n",
    "print(center)\n",
    "print('')\n",
    "res = center[label.flatten()]\n",
    "\n",
    "res2 = res.reshape((img.shape))\n",
    "print(img.shape)\n",
    "print(res[20])\n",
    "cv2.imwrite(curr_dir+'/post_imgs/'+'frame75.png',res2)"
   ]
  },
  {
   "cell_type": "code",
   "execution_count": 23,
   "metadata": {},
   "outputs": [
    {
     "name": "stdout",
     "output_type": "stream",
     "text": [
      "[[3]\n",
      " [3]\n",
      " [3]\n",
      " ...\n",
      " [3]\n",
      " [1]\n",
      " [3]]\n"
     ]
    }
   ],
   "source": [
    "print(reorderLabels(center,label,K))"
   ]
  },
  {
   "cell_type": "code",
   "execution_count": 24,
   "metadata": {},
   "outputs": [],
   "source": [
    "for x in img_list:\n",
    "    \n",
    "    img = cv2.imread(curr_dir+'/home_run_imgs/'+x)\n",
    "    Z = img.reshape((-1,3))\n",
    "    # convert to np.float32\n",
    "    Z = np.float32(Z)\n",
    "\n",
    "    # define criteria, number of clusters(K) and apply kmeans()\n",
    "    criteria = (cv2.TERM_CRITERIA_EPS + cv2.TERM_CRITERIA_MAX_ITER, 10, 1.0)\n",
    "    K = 3\n",
    "#     new_green = label[20]\n",
    "    ret,label,center2=cv2.kmeans(Z,K,None,criteria,10,cv2.KMEANS_RANDOM_CENTERS)\n",
    "#     if(green_label != new_green):\n",
    "#         green_indices = [i for i, x in enumerate(label) if x == new_green]\n",
    "#         two_label = [i for i, x in enumerate(label) if x == green_label]\n",
    "        \n",
    "#         for y in two_label:\n",
    "#             label[y] = green_label\n",
    "#         for y in green_indices:\n",
    "#             label[y] = new_green\n",
    "    label = reorderLabels(center2,label,K)\n",
    "    res = center[label.flatten()]\n",
    "    res2 = res.reshape((img.shape))\n",
    "\n",
    "    cv2.imwrite(curr_dir+'/post_imgs/'+x,res2)"
   ]
  },
  {
   "cell_type": "code",
   "execution_count": 25,
   "metadata": {},
   "outputs": [
    {
     "name": "stdout",
     "output_type": "stream",
     "text": [
      "['frame1.png', 'frame2.png', 'frame3.png', 'frame4.png', 'frame5.png', 'frame6.png', 'frame7.png', 'frame8.png', 'frame9.png', 'frame10.png', 'frame11.png', 'frame12.png', 'frame13.png', 'frame14.png', 'frame15.png', 'frame16.png', 'frame17.png', 'frame18.png', 'frame19.png', 'frame20.png', 'frame21.png', 'frame22.png', 'frame23.png', 'frame24.png', 'frame25.png', 'frame26.png', 'frame27.png', 'frame28.png', 'frame29.png', 'frame30.png', 'frame31.png', 'frame32.png', 'frame33.png', 'frame34.png', 'frame35.png', 'frame36.png', 'frame37.png', 'frame38.png', 'frame39.png', 'frame40.png', 'frame41.png', 'frame42.png', 'frame43.png', 'frame44.png', 'frame45.png', 'frame46.png', 'frame47.png', 'frame48.png', 'frame49.png', 'frame50.png', 'frame51.png', 'frame52.png', 'frame53.png', 'frame54.png', 'frame55.png', 'frame56.png', 'frame57.png', 'frame58.png', 'frame59.png', 'frame60.png', 'frame61.png', 'frame62.png', 'frame63.png', 'frame64.png', 'frame65.png', 'frame66.png', 'frame67.png', 'frame68.png', 'frame69.png', 'frame70.png', 'frame71.png', 'frame72.png', 'frame73.png', 'frame74.png', 'frame75.png', 'frame76.png', 'frame77.png', 'frame78.png', 'frame79.png', 'frame80.png', 'frame81.png', 'frame82.png', 'frame83.png', 'frame84.png', 'frame85.png', 'frame86.png', 'frame87.png', 'frame88.png', 'frame89.png', 'frame90.png', 'frame91.png', 'frame92.png', 'frame93.png', 'frame94.png', 'frame95.png', 'frame96.png', 'frame97.png', 'frame98.png', 'frame99.png', 'frame100.png', 'frame101.png', 'frame102.png', 'frame103.png', 'frame104.png', 'frame105.png', 'frame106.png', 'frame107.png', 'frame108.png', 'frame109.png', 'frame110.png', 'frame111.png', 'frame112.png', 'frame113.png', 'frame114.png', 'frame115.png', 'frame116.png', 'frame117.png', 'frame118.png', 'frame119.png', 'frame120.png', 'frame121.png', 'frame122.png', 'frame123.png', 'frame124.png', 'frame125.png', 'frame126.png', 'frame127.png', 'frame128.png', 'frame129.png', 'frame130.png']\n"
     ]
    }
   ],
   "source": [
    "import imageio\n",
    "curr_dir = os.getcwd()\n",
    "img_list = os.listdir(curr_dir+'/post_imgs')\n",
    "\n",
    "img_list.sort(key=natural_keys)\n",
    "print(img_list)\n",
    "images = []\n",
    "for filename in img_list:\n",
    "    images.append(imageio.imread(curr_dir+'/post_imgs/'+filename))\n",
    "imageio.mimsave(curr_dir+'/diamond.gif', images)"
   ]
  },
  {
   "cell_type": "code",
   "execution_count": null,
   "metadata": {},
   "outputs": [],
   "source": []
  },
  {
   "cell_type": "code",
   "execution_count": null,
   "metadata": {},
   "outputs": [],
   "source": []
  }
 ],
 "metadata": {
  "kernelspec": {
   "display_name": "Python 3",
   "language": "python",
   "name": "python3"
  },
  "language_info": {
   "codemirror_mode": {
    "name": "ipython",
    "version": 3
   },
   "file_extension": ".py",
   "mimetype": "text/x-python",
   "name": "python",
   "nbconvert_exporter": "python",
   "pygments_lexer": "ipython3",
   "version": "3.7.0"
  }
 },
 "nbformat": 4,
 "nbformat_minor": 2
}
